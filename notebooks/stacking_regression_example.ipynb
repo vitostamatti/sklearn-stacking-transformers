{
 "cells": [
  {
   "cell_type": "code",
   "execution_count": 4,
   "metadata": {},
   "outputs": [],
   "source": [
    "from sklearn.datasets import fetch_california_housing\n",
    "from sklearn.model_selection import train_test_split\n",
    "from sklearn.metrics import mean_absolute_error\n",
    "from sklearn.ensemble import ExtraTreesRegressor, RandomForestRegressor, GradientBoostingRegressor\n",
    "from sklearn.neighbors import KNeighborsRegressor\n",
    "import numpy as np\n",
    "import sys\n",
    "\n",
    "sys.path.append('../src')\n",
    "\n",
    "from stacking_transformer import RegressionStackingTransformer"
   ]
  },
  {
   "cell_type": "code",
   "execution_count": 5,
   "metadata": {},
   "outputs": [],
   "source": [
    "# Load demo data\n",
    "dataset = fetch_california_housing()\n",
    "X, y = dataset.data, dataset.target\n",
    "# Make train/test split\n",
    "X_train, X_test, y_train, y_test = train_test_split(X, y,\n",
    "                                                        test_size=0.2,\n",
    "                                                        random_state=0)"
   ]
  },
  {
   "cell_type": "code",
   "execution_count": 7,
   "metadata": {},
   "outputs": [
    {
     "name": "stdout",
     "output_type": "stream",
     "text": [
      "metric:  mean_squared_error \n",
      " n_estimators:  3 \n",
      "\n",
      "Estimator: [et: ExtraTreesRegressor]\n",
      "Mean Scores: [0.72550959]  -  Std Scrores: [0.02120710]\n",
      "\n",
      "Estimator: [rf: RandomForestRegressor]\n",
      "Mean Scores: [0.58133018]  -  Std Scrores: [0.02674405]\n",
      "\n",
      "Estimator: [knn: KNeighborsRegressor]\n",
      "Mean Scores: [1.14589167]  -  Std Scrores: [0.03048826]\n",
      "\n",
      "Train set was detected.\n",
      "Final score: [0.52926671]\n"
     ]
    }
   ],
   "source": [
    "estimators_L1 = [\n",
    "    ('et', ExtraTreesRegressor(\n",
    "            random_state=0,\n",
    "            n_jobs=-1,\n",
    "            n_estimators=100,\n",
    "            max_depth=3\n",
    "    )),\n",
    "    ('rf', RandomForestRegressor(\n",
    "            random_state=0,\n",
    "            n_jobs=-1,\n",
    "            n_estimators=100,\n",
    "            max_depth=3\n",
    "    )),\n",
    "    ('knn',KNeighborsRegressor(n_neighbors=10))\n",
    "]\n",
    "\n",
    "# Stacking\n",
    "n_folds = 5\n",
    "stack = RegressionStackingTransformer(\n",
    "    estimators=estimators_L1,\n",
    "    shuffle=True,\n",
    "    random_state=0,\n",
    "    verbose=1,\n",
    "    n_folds=n_folds,\n",
    ")\n",
    "\n",
    "stack.fit(X_train, y_train)\n",
    "S_train = stack.transform(X_train)\n",
    "S_test = stack.transform(X_test)\n",
    "# # Use 2nd level estimator to get final prediction\n",
    "estimator_L2 = GradientBoostingRegressor(random_state=0,\n",
    "                                learning_rate=0.1,\n",
    "                                n_estimators=100,\n",
    "                                max_depth=3\n",
    "                                )\n",
    "\n",
    "estimator_L2 = estimator_L2.fit(S_train, y_train)\n",
    "y_pred = estimator_L2.predict(S_test)\n",
    "\n",
    "# Final prediction score\n",
    "print('Final score: [%.8f]' % mean_absolute_error(y_test, y_pred))"
   ]
  },
  {
   "cell_type": "code",
   "execution_count": 12,
   "metadata": {},
   "outputs": [],
   "source": [
    "from sklearn.pipeline import Pipeline\n",
    "from sklearn.linear_model import LinearRegression\n",
    "\n",
    "# Init 1st level estimators\n",
    "estimators_l1 = [\n",
    "    ('et', ExtraTreesRegressor(\n",
    "            random_state=0,\n",
    "            n_jobs=-1,\n",
    "            n_estimators=100,\n",
    "            max_depth=3\n",
    "    )),\n",
    "    ('rf', RandomForestRegressor(\n",
    "            random_state=0,\n",
    "            n_jobs=-1,\n",
    "            n_estimators=100,\n",
    "            max_depth=3\n",
    "    )),\n",
    "    ('knn',KNeighborsRegressor(n_neighbors=10))\n",
    "]\n",
    "# Stacking\n",
    "stack_l1 = RegressionStackingTransformer(\n",
    "        estimators=estimators_l1,\n",
    "        shuffle=True,\n",
    "        random_state=0,\n",
    "        verbose=1,\n",
    "        n_jobs=-1\n",
    ")\n",
    "\n",
    "\n",
    "pipeline = Pipeline([\n",
    "        ('stack_l1',stack_l1), \n",
    "        (\"final_pred\",LinearRegression())\n",
    "])"
   ]
  },
  {
   "cell_type": "code",
   "execution_count": 13,
   "metadata": {},
   "outputs": [
    {
     "name": "stdout",
     "output_type": "stream",
     "text": [
      "metric:  mean_squared_error \n",
      " n_estimators:  3 \n",
      "\n",
      "Estimator: [et: ExtraTreesRegressor]\n",
      "Mean Scores: [0.72514138]  -  Std Scrores: [0.01519959]\n",
      "\n",
      "Estimator: [rf: RandomForestRegressor]\n",
      "Mean Scores: [0.58205053]  -  Std Scrores: [0.03158254]\n",
      "\n",
      "Estimator: [knn: KNeighborsRegressor]\n",
      "Mean Scores: [1.15414639]  -  Std Scrores: [0.02528988]\n",
      "\n",
      "Train set was detected.\n"
     ]
    },
    {
     "data": {
      "text/html": [
       "<style>#sk-container-id-2 {color: black;background-color: white;}#sk-container-id-2 pre{padding: 0;}#sk-container-id-2 div.sk-toggleable {background-color: white;}#sk-container-id-2 label.sk-toggleable__label {cursor: pointer;display: block;width: 100%;margin-bottom: 0;padding: 0.3em;box-sizing: border-box;text-align: center;}#sk-container-id-2 label.sk-toggleable__label-arrow:before {content: \"▸\";float: left;margin-right: 0.25em;color: #696969;}#sk-container-id-2 label.sk-toggleable__label-arrow:hover:before {color: black;}#sk-container-id-2 div.sk-estimator:hover label.sk-toggleable__label-arrow:before {color: black;}#sk-container-id-2 div.sk-toggleable__content {max-height: 0;max-width: 0;overflow: hidden;text-align: left;background-color: #f0f8ff;}#sk-container-id-2 div.sk-toggleable__content pre {margin: 0.2em;color: black;border-radius: 0.25em;background-color: #f0f8ff;}#sk-container-id-2 input.sk-toggleable__control:checked~div.sk-toggleable__content {max-height: 200px;max-width: 100%;overflow: auto;}#sk-container-id-2 input.sk-toggleable__control:checked~label.sk-toggleable__label-arrow:before {content: \"▾\";}#sk-container-id-2 div.sk-estimator input.sk-toggleable__control:checked~label.sk-toggleable__label {background-color: #d4ebff;}#sk-container-id-2 div.sk-label input.sk-toggleable__control:checked~label.sk-toggleable__label {background-color: #d4ebff;}#sk-container-id-2 input.sk-hidden--visually {border: 0;clip: rect(1px 1px 1px 1px);clip: rect(1px, 1px, 1px, 1px);height: 1px;margin: -1px;overflow: hidden;padding: 0;position: absolute;width: 1px;}#sk-container-id-2 div.sk-estimator {font-family: monospace;background-color: #f0f8ff;border: 1px dotted black;border-radius: 0.25em;box-sizing: border-box;margin-bottom: 0.5em;}#sk-container-id-2 div.sk-estimator:hover {background-color: #d4ebff;}#sk-container-id-2 div.sk-parallel-item::after {content: \"\";width: 100%;border-bottom: 1px solid gray;flex-grow: 1;}#sk-container-id-2 div.sk-label:hover label.sk-toggleable__label {background-color: #d4ebff;}#sk-container-id-2 div.sk-serial::before {content: \"\";position: absolute;border-left: 1px solid gray;box-sizing: border-box;top: 0;bottom: 0;left: 50%;z-index: 0;}#sk-container-id-2 div.sk-serial {display: flex;flex-direction: column;align-items: center;background-color: white;padding-right: 0.2em;padding-left: 0.2em;position: relative;}#sk-container-id-2 div.sk-item {position: relative;z-index: 1;}#sk-container-id-2 div.sk-parallel {display: flex;align-items: stretch;justify-content: center;background-color: white;position: relative;}#sk-container-id-2 div.sk-item::before, #sk-container-id-2 div.sk-parallel-item::before {content: \"\";position: absolute;border-left: 1px solid gray;box-sizing: border-box;top: 0;bottom: 0;left: 50%;z-index: -1;}#sk-container-id-2 div.sk-parallel-item {display: flex;flex-direction: column;z-index: 1;position: relative;background-color: white;}#sk-container-id-2 div.sk-parallel-item:first-child::after {align-self: flex-end;width: 50%;}#sk-container-id-2 div.sk-parallel-item:last-child::after {align-self: flex-start;width: 50%;}#sk-container-id-2 div.sk-parallel-item:only-child::after {width: 0;}#sk-container-id-2 div.sk-dashed-wrapped {border: 1px dashed gray;margin: 0 0.4em 0.5em 0.4em;box-sizing: border-box;padding-bottom: 0.4em;background-color: white;}#sk-container-id-2 div.sk-label label {font-family: monospace;font-weight: bold;display: inline-block;line-height: 1.2em;}#sk-container-id-2 div.sk-label-container {text-align: center;}#sk-container-id-2 div.sk-container {/* jupyter's `normalize.less` sets `[hidden] { display: none; }` but bootstrap.min.css set `[hidden] { display: none !important; }` so we also need the `!important` here to be able to override the default hidden behavior on the sphinx rendered scikit-learn.org. See: https://github.com/scikit-learn/scikit-learn/issues/21755 */display: inline-block !important;position: relative;}#sk-container-id-2 div.sk-text-repr-fallback {display: none;}</style><div id=\"sk-container-id-2\" class=\"sk-top-container\"><div class=\"sk-text-repr-fallback\"><pre>Pipeline(steps=[(&#x27;stack_l1&#x27;,\n",
       "                 RegressionStackingTransformer(estimators=[(&#x27;et&#x27;,\n",
       "                                                            ExtraTreesRegressor(max_depth=3,\n",
       "                                                                                n_jobs=-1,\n",
       "                                                                                random_state=0)),\n",
       "                                                           (&#x27;rf&#x27;,\n",
       "                                                            RandomForestRegressor(max_depth=3,\n",
       "                                                                                  n_jobs=-1,\n",
       "                                                                                  random_state=0)),\n",
       "                                                           (&#x27;knn&#x27;,\n",
       "                                                            KNeighborsRegressor(n_neighbors=10))],\n",
       "                                               n_jobs=-1, shuffle=True,\n",
       "                                               verbose=1)),\n",
       "                (&#x27;final_pred&#x27;, LinearRegression())])</pre><b>In a Jupyter environment, please rerun this cell to show the HTML representation or trust the notebook. <br />On GitHub, the HTML representation is unable to render, please try loading this page with nbviewer.org.</b></div><div class=\"sk-container\" hidden><div class=\"sk-item sk-dashed-wrapped\"><div class=\"sk-label-container\"><div class=\"sk-label sk-toggleable\"><input class=\"sk-toggleable__control sk-hidden--visually\" id=\"sk-estimator-id-5\" type=\"checkbox\" ><label for=\"sk-estimator-id-5\" class=\"sk-toggleable__label sk-toggleable__label-arrow\">Pipeline</label><div class=\"sk-toggleable__content\"><pre>Pipeline(steps=[(&#x27;stack_l1&#x27;,\n",
       "                 RegressionStackingTransformer(estimators=[(&#x27;et&#x27;,\n",
       "                                                            ExtraTreesRegressor(max_depth=3,\n",
       "                                                                                n_jobs=-1,\n",
       "                                                                                random_state=0)),\n",
       "                                                           (&#x27;rf&#x27;,\n",
       "                                                            RandomForestRegressor(max_depth=3,\n",
       "                                                                                  n_jobs=-1,\n",
       "                                                                                  random_state=0)),\n",
       "                                                           (&#x27;knn&#x27;,\n",
       "                                                            KNeighborsRegressor(n_neighbors=10))],\n",
       "                                               n_jobs=-1, shuffle=True,\n",
       "                                               verbose=1)),\n",
       "                (&#x27;final_pred&#x27;, LinearRegression())])</pre></div></div></div><div class=\"sk-serial\"><div class=\"sk-item\"><div class=\"sk-estimator sk-toggleable\"><input class=\"sk-toggleable__control sk-hidden--visually\" id=\"sk-estimator-id-6\" type=\"checkbox\" ><label for=\"sk-estimator-id-6\" class=\"sk-toggleable__label sk-toggleable__label-arrow\">RegressionStackingTransformer</label><div class=\"sk-toggleable__content\"><pre>RegressionStackingTransformer(estimators=[(&#x27;et&#x27;,\n",
       "                                           ExtraTreesRegressor(max_depth=3,\n",
       "                                                               n_jobs=-1,\n",
       "                                                               random_state=0)),\n",
       "                                          (&#x27;rf&#x27;,\n",
       "                                           RandomForestRegressor(max_depth=3,\n",
       "                                                                 n_jobs=-1,\n",
       "                                                                 random_state=0)),\n",
       "                                          (&#x27;knn&#x27;,\n",
       "                                           KNeighborsRegressor(n_neighbors=10))],\n",
       "                              n_jobs=-1, shuffle=True, verbose=1)</pre></div></div></div><div class=\"sk-item\"><div class=\"sk-estimator sk-toggleable\"><input class=\"sk-toggleable__control sk-hidden--visually\" id=\"sk-estimator-id-7\" type=\"checkbox\" ><label for=\"sk-estimator-id-7\" class=\"sk-toggleable__label sk-toggleable__label-arrow\">LinearRegression</label><div class=\"sk-toggleable__content\"><pre>LinearRegression()</pre></div></div></div></div></div></div></div>"
      ],
      "text/plain": [
       "Pipeline(steps=[('stack_l1',\n",
       "                 RegressionStackingTransformer(estimators=[('et',\n",
       "                                                            ExtraTreesRegressor(max_depth=3,\n",
       "                                                                                n_jobs=-1,\n",
       "                                                                                random_state=0)),\n",
       "                                                           ('rf',\n",
       "                                                            RandomForestRegressor(max_depth=3,\n",
       "                                                                                  n_jobs=-1,\n",
       "                                                                                  random_state=0)),\n",
       "                                                           ('knn',\n",
       "                                                            KNeighborsRegressor(n_neighbors=10))],\n",
       "                                               n_jobs=-1, shuffle=True,\n",
       "                                               verbose=1)),\n",
       "                ('final_pred', LinearRegression())])"
      ]
     },
     "execution_count": 13,
     "metadata": {},
     "output_type": "execute_result"
    }
   ],
   "source": [
    "pipeline.fit(X_train, y_train)"
   ]
  },
  {
   "cell_type": "code",
   "execution_count": 14,
   "metadata": {},
   "outputs": [],
   "source": [
    "y_pred_test = pipeline.predict(X_test)"
   ]
  },
  {
   "cell_type": "code",
   "execution_count": 15,
   "metadata": {},
   "outputs": [
    {
     "name": "stdout",
     "output_type": "stream",
     "text": [
      "MAPE with stacking: % 35.70\n",
      "MAPE without stacking: % 32.33\n"
     ]
    }
   ],
   "source": [
    "from sklearn.metrics import mean_absolute_percentage_error\n",
    "\n",
    "lr = LinearRegression()\n",
    "lr.fit(X_train, y_train)\n",
    "y_pred_test_lr = lr.predict(X_test)\n",
    "\n",
    "\n",
    "print(f\"MAPE with stacking: % {100*mean_absolute_percentage_error(y_test, y_pred_test):.2f}\" )\n",
    "print(f\"MAPE without stacking: % {100*mean_absolute_percentage_error(y_test, y_pred_test_lr):.2f}\")"
   ]
  }
 ],
 "metadata": {
  "interpreter": {
   "hash": "2c486376ded516fafe091783a6c70b600e9bfb5824ad41de96f5bf0836d62937"
  },
  "kernelspec": {
   "display_name": "Python 3.8.13 ('python38')",
   "language": "python",
   "name": "python3"
  },
  "language_info": {
   "codemirror_mode": {
    "name": "ipython",
    "version": 3
   },
   "file_extension": ".py",
   "mimetype": "text/x-python",
   "name": "python",
   "nbconvert_exporter": "python",
   "pygments_lexer": "ipython3",
   "version": "3.8.13"
  },
  "orig_nbformat": 4
 },
 "nbformat": 4,
 "nbformat_minor": 2
}
