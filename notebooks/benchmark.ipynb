{
 "cells": [
  {
   "cell_type": "code",
   "execution_count": 1,
   "metadata": {},
   "outputs": [],
   "source": [
    "\n",
    "from sklearn.datasets import make_regression\n",
    "from sklearn.model_selection import train_test_split\n",
    "from sklearn.metrics import mean_absolute_error\n",
    "from sklearn.linear_model import LinearRegression, Lasso, Ridge\n",
    "from sklearn.ensemble import ExtraTreesRegressor, RandomForestRegressor, GradientBoostingRegressor\n",
    "from sklearn.neighbors import KNeighborsRegressor\n",
    "import numpy as np\n",
    "import sys\n",
    "sys.path.append('../src')\n",
    "\n",
    "from stacking_transformer import RegressionStackingTransformer"
   ]
  },
  {
   "cell_type": "code",
   "execution_count": 8,
   "metadata": {},
   "outputs": [],
   "source": [
    "\n",
    "X, y = make_regression(n_samples=3000, n_features=10, n_informative=2, noise=0.2)\n",
    "# Make train/test split\n",
    "X_train, X_test, y_train, y_test = train_test_split(X, y,test_size=0.2,random_state=123)"
   ]
  },
  {
   "cell_type": "code",
   "execution_count": 11,
   "metadata": {},
   "outputs": [
    {
     "name": "stdout",
     "output_type": "stream",
     "text": [
      "metric:  [mean_absolute_error] \n",
      " n_estimators:  [7] \n",
      "\n",
      "Estimator  0: [m1: LinearRegression]\n",
      "Mean Scores: [0.15814622]  -  Std Scrores: [0.00406993]\n",
      "\n",
      "Estimator  1: [m2: ExtraTreesRegressor]\n",
      "Mean Scores: [0.50871496]  -  Std Scrores: [0.04327420]\n",
      "\n",
      "Estimator  2: [m3: RandomForestRegressor]\n",
      "Mean Scores: [0.85871835]  -  Std Scrores: [0.06987607]\n",
      "\n",
      "Estimator  3: [m4: GradientBoostingRegressor]\n",
      "Mean Scores: [0.96144932]  -  Std Scrores: [0.06123278]\n",
      "\n",
      "Estimator  4: [m5: KNeighborsRegressor]\n",
      "Mean Scores: [18.47093793]  -  Std Scrores: [0.80020844]\n",
      "\n",
      "Estimator  5: [m6: Lasso]\n",
      "Mean Scores: [1.11113198]  -  Std Scrores: [0.04522909]\n",
      "\n",
      "Estimator  6: [m7: Ridge]\n",
      "Mean Scores: [0.15897775]  -  Std Scrores: [0.00425514]\n",
      "\n",
      "Train set was detected.\n",
      "********************\n",
      "Final score: [0.16620016]\n",
      "Total fit and predict time:  23.981504917144775\n"
     ]
    }
   ],
   "source": [
    "\n",
    "import time\n",
    "\n",
    "start = time.time()\n",
    "\n",
    "\n",
    "estimators_L1 = [\n",
    "    ('m1', LinearRegression()),\n",
    "    ('m2', ExtraTreesRegressor()),\n",
    "    ('m3', RandomForestRegressor()),\n",
    "    ('m4', GradientBoostingRegressor()),\n",
    "    ('m5', KNeighborsRegressor()),\n",
    "    ('m6', Lasso()),\n",
    "    (\"m7\", Ridge())\n",
    "]\n",
    "\n",
    "# Stacking\n",
    "n_folds = 5\n",
    "stack = RegressionStackingTransformer(\n",
    "    estimators=estimators_L1,\n",
    "    shuffle=True,\n",
    "    random_state=0,\n",
    "    verbose=1,\n",
    "    n_folds=n_folds,\n",
    ")\n",
    "\n",
    "stack.fit(X_train, y_train)\n",
    "S_train = stack.transform(X_train)\n",
    "S_test = stack.transform(X_test)\n",
    "# # Use 2nd level estimator to get final prediction\n",
    "estimator_L2 = LinearRegression()\n",
    "\n",
    "estimator_L2 = estimator_L2.fit(S_train, y_train)\n",
    "y_pred = estimator_L2.predict(S_test)\n",
    "\n",
    "# Final prediction score\n",
    "print(\"*\"*20)\n",
    "print('Final score: [%.8f]' % mean_absolute_error(y_test, y_pred))\n",
    "\n",
    "end = time.time()\n",
    "print(\"Total fit and predict time: \", end - start)"
   ]
  },
  {
   "cell_type": "code",
   "execution_count": 12,
   "metadata": {},
   "outputs": [
    {
     "name": "stdout",
     "output_type": "stream",
     "text": [
      "metric: [mean_absolute_error] \n",
      " n_estimators: [7] \n",
      "\n"
     ]
    },
    {
     "name": "stderr",
     "output_type": "stream",
     "text": [
      "[Parallel(n_jobs=-1)]: Using backend LokyBackend with 8 concurrent workers.\n",
      "[Parallel(n_jobs=-1)]: Done  35 out of  35 | elapsed:    7.4s finished\n",
      "[Parallel(n_jobs=-1)]: Using backend LokyBackend with 8 concurrent workers.\n"
     ]
    },
    {
     "name": "stdout",
     "output_type": "stream",
     "text": [
      "Estimator: [m1: LinearRegression]\n",
      "Mean Scores: [0.15814622]  -  Std Scrores: [0.00406993]\n",
      "\n",
      "Estimator: [m2: ExtraTreesRegressor]\n",
      "Mean Scores: [0.51007961]  -  Std Scrores: [0.05274760]\n",
      "\n",
      "Estimator: [m3: RandomForestRegressor]\n",
      "Mean Scores: [0.85552756]  -  Std Scrores: [0.07235703]\n",
      "\n",
      "Estimator: [m4: GradientBoostingRegressor]\n",
      "Mean Scores: [0.95941172]  -  Std Scrores: [0.05950958]\n",
      "\n",
      "Estimator: [m5: KNeighborsRegressor]\n",
      "Mean Scores: [18.47093793]  -  Std Scrores: [0.80020844]\n",
      "\n",
      "Estimator: [m6: Lasso]\n",
      "Mean Scores: [1.11113198]  -  Std Scrores: [0.04522909]\n",
      "\n",
      "Estimator: [m7: Ridge]\n",
      "Mean Scores: [0.15897775]  -  Std Scrores: [0.00425514]\n",
      "\n",
      "Train set was detected.\n"
     ]
    },
    {
     "name": "stderr",
     "output_type": "stream",
     "text": [
      "[Parallel(n_jobs=-1)]: Done  35 out of  35 | elapsed:    2.6s finished\n",
      "[Parallel(n_jobs=-1)]: Using backend LokyBackend with 8 concurrent workers.\n"
     ]
    },
    {
     "name": "stdout",
     "output_type": "stream",
     "text": [
      "********************\n",
      "Final score: [0.16543262]\n",
      "Total fit and predict time:  13.064667224884033\n"
     ]
    },
    {
     "name": "stderr",
     "output_type": "stream",
     "text": [
      "[Parallel(n_jobs=-1)]: Done  35 out of  35 | elapsed:    2.8s finished\n"
     ]
    }
   ],
   "source": [
    "# Parallel\n",
    "\n",
    "start = time.time()\n",
    "\n",
    "estimators_L1 = [\n",
    "    ('m1', LinearRegression()),\n",
    "    ('m2', ExtraTreesRegressor()),\n",
    "    ('m3', RandomForestRegressor()),\n",
    "    ('m4', GradientBoostingRegressor()),\n",
    "    ('m5', KNeighborsRegressor()),\n",
    "    ('m6', Lasso()),\n",
    "    (\"m7\", Ridge())\n",
    "]\n",
    "\n",
    "# Stacking\n",
    "n_folds = 5\n",
    "stack_p = RegressionStackingTransformer(\n",
    "    estimators=estimators_L1,\n",
    "    shuffle=True,\n",
    "    random_state=0,\n",
    "    verbose=1,\n",
    "    n_folds=n_folds,\n",
    "    njobs=-1\n",
    ")\n",
    "\n",
    "stack_p.fit(X_train, y_train)\n",
    "S_train_p = stack_p.transform(X_train)\n",
    "S_test_p = stack_p.transform(X_test)\n",
    "\n",
    "# # Use 2nd level estimator to get final prediction\n",
    "estimator_L2 = LinearRegression()\n",
    "\n",
    "estimator_L2 = estimator_L2.fit(S_train_p, y_train)\n",
    "y_pred_p = estimator_L2.predict(S_test_p)\n",
    "\n",
    "# Final prediction score\n",
    "print(\"*\"*20)\n",
    "print('Final score: [%.8f]' % mean_absolute_error(y_test, y_pred_p))\n",
    "\n",
    "end = time.time()\n",
    "print(\"Total fit and predict time: \", end - start)"
   ]
  },
  {
   "cell_type": "code",
   "execution_count": null,
   "metadata": {},
   "outputs": [],
   "source": []
  }
 ],
 "metadata": {
  "interpreter": {
   "hash": "2c486376ded516fafe091783a6c70b600e9bfb5824ad41de96f5bf0836d62937"
  },
  "kernelspec": {
   "display_name": "Python 3.8.13 ('python38')",
   "language": "python",
   "name": "python3"
  },
  "language_info": {
   "codemirror_mode": {
    "name": "ipython",
    "version": 3
   },
   "file_extension": ".py",
   "mimetype": "text/x-python",
   "name": "python",
   "nbconvert_exporter": "python",
   "pygments_lexer": "ipython3",
   "version": "3.8.13"
  },
  "orig_nbformat": 4
 },
 "nbformat": 4,
 "nbformat_minor": 2
}
